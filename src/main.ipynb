{
 "cells": [
  {
   "cell_type": "code",
   "execution_count": 2,
   "id": "7b128147",
   "metadata": {},
   "outputs": [],
   "source": [
    "import spade\n",
    "import asyncio\n",
    "from spade import wait_until_finished\n",
    "from spade.agent import Agent\n",
    "from spade.behaviour import CyclicBehaviour"
   ]
  },
  {
   "cell_type": "code",
   "execution_count": null,
   "id": "c0ffde34",
   "metadata": {},
   "outputs": [],
   "source": [
    "\n",
    "class DummyAgent(spade.agent.Agent):\n",
    "    async def setup(self):\n",
    "        print(\"Hello World! I'm agent {}\".format(str(self.jid)))\n",
    "\n",
    "async def main():\n",
    "    dummy = DummyAgent(\"lucastt@yax.im\", \"XMPPpassword.\")\n",
    "    await dummy.start()\n",
    "    await dummy.stop()\n",
    "if __name__ == \"__main__\":\n",
    "  spade.run(main())"
   ]
  },
  {
   "cell_type": "code",
   "execution_count": null,
   "id": "afd75b8b",
   "metadata": {},
   "outputs": [],
   "source": [
    "\n",
    "class DummyAgent(Agent):\n",
    "    class MyBehav(CyclicBehaviour):\n",
    "        async def on_start(self):\n",
    "            print(\"Starting behaviour . . .\")\n",
    "            self.counter = 0\n",
    "\n",
    "        async def run(self):\n",
    "            print(\"Counter: {}\".format(self.counter))\n",
    "            self.counter += 1\n",
    "            await asyncio.sleep(1)\n",
    "\n",
    "    async def setup(self):\n",
    "        print(\"Agent starting . . .\")\n",
    "        b = self.MyBehav()\n",
    "        self.add_behaviour(b)\n",
    "\n",
    "async def main():\n",
    "    dummy = DummyAgent(\"lucastt@yax.im\", \"XMPPpassword.\")\n",
    "    await dummy.start()\n",
    "    print(\"DummyAgent started. Check its console to see the output.\")\n",
    "\n",
    "    print(\"Wait until user interrupts with ctrl+C\")\n",
    "    await wait_until_finished(dummy)\n",
    "if __name__ == \"__main__\":\n",
    "  spade.run(main())"
   ]
  }
 ],
 "metadata": {
  "kernelspec": {
   "display_name": "amb3",
   "language": "python",
   "name": "python3"
  },
  "language_info": {
   "codemirror_mode": {
    "name": "ipython",
    "version": 3
   },
   "file_extension": ".py",
   "mimetype": "text/x-python",
   "name": "python",
   "nbconvert_exporter": "python",
   "pygments_lexer": "ipython3",
   "version": "3.10.12"
  }
 },
 "nbformat": 4,
 "nbformat_minor": 5
}
